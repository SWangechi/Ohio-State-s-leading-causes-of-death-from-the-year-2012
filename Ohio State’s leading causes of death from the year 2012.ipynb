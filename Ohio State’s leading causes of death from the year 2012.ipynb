{
 "cells": [
  {
   "cell_type": "markdown",
   "id": "af37906d",
   "metadata": {},
   "source": [
    "# Ohio State’s leading causes of death from the year 2012\n",
    "You have been provided with a dataset that lists Ohio State’s leading causes of death from the year 2012. Using the two data points:\n",
    "\n",
    "1. Cause of deaths\n",
    "\n",
    "2. Percentile\n",
    "\n",
    "Draw a pie chart to visualize the dataset."
   ]
  },
  {
   "cell_type": "markdown",
   "id": "9d39d5f9",
   "metadata": {},
   "source": [
    "# 1. Import necessary libraries"
   ]
  },
  {
   "cell_type": "code",
   "execution_count": 4,
   "id": "9d4169a6",
   "metadata": {},
   "outputs": [],
   "source": [
    "import pandas as pd\n",
    "import matplotlib.pyplot as plt\n",
    "%matplotlib inline"
   ]
  },
  {
   "cell_type": "markdown",
   "id": "5189de98",
   "metadata": {},
   "source": [
    "# 2. The data"
   ]
  },
  {
   "cell_type": "code",
   "execution_count": 2,
   "id": "8a0ec9bc",
   "metadata": {},
   "outputs": [],
   "source": [
    "data= {'Cause of deaths' :['Chronic Disease', 'Unintentional Injuries', 'Alzheimers', 'Infuenza and Pneumonia', 'Sepsis', 'Others'],\n",
    "      'Percentile' :[62, 5, 4, 2, 1, 26]}"
   ]
  },
  {
   "cell_type": "code",
   "execution_count": 3,
   "id": "598e5440",
   "metadata": {},
   "outputs": [
    {
     "data": {
      "text/html": [
       "<div>\n",
       "<style scoped>\n",
       "    .dataframe tbody tr th:only-of-type {\n",
       "        vertical-align: middle;\n",
       "    }\n",
       "\n",
       "    .dataframe tbody tr th {\n",
       "        vertical-align: top;\n",
       "    }\n",
       "\n",
       "    .dataframe thead th {\n",
       "        text-align: right;\n",
       "    }\n",
       "</style>\n",
       "<table border=\"1\" class=\"dataframe\">\n",
       "  <thead>\n",
       "    <tr style=\"text-align: right;\">\n",
       "      <th></th>\n",
       "      <th>Cause of deaths</th>\n",
       "      <th>Percentile</th>\n",
       "    </tr>\n",
       "  </thead>\n",
       "  <tbody>\n",
       "    <tr>\n",
       "      <th>0</th>\n",
       "      <td>Chronic Disease</td>\n",
       "      <td>62</td>\n",
       "    </tr>\n",
       "    <tr>\n",
       "      <th>1</th>\n",
       "      <td>Unintentional Injuries</td>\n",
       "      <td>5</td>\n",
       "    </tr>\n",
       "    <tr>\n",
       "      <th>2</th>\n",
       "      <td>Alzheimers</td>\n",
       "      <td>4</td>\n",
       "    </tr>\n",
       "    <tr>\n",
       "      <th>3</th>\n",
       "      <td>Infuenza and Pneumonia</td>\n",
       "      <td>2</td>\n",
       "    </tr>\n",
       "    <tr>\n",
       "      <th>4</th>\n",
       "      <td>Sepsis</td>\n",
       "      <td>1</td>\n",
       "    </tr>\n",
       "    <tr>\n",
       "      <th>5</th>\n",
       "      <td>Others</td>\n",
       "      <td>26</td>\n",
       "    </tr>\n",
       "  </tbody>\n",
       "</table>\n",
       "</div>"
      ],
      "text/plain": [
       "          Cause of deaths  Percentile\n",
       "0         Chronic Disease          62\n",
       "1  Unintentional Injuries           5\n",
       "2              Alzheimers           4\n",
       "3  Infuenza and Pneumonia           2\n",
       "4                  Sepsis           1\n",
       "5                  Others          26"
      ]
     },
     "execution_count": 3,
     "metadata": {},
     "output_type": "execute_result"
    }
   ],
   "source": [
    "# create a dataframe\n",
    "df= pd.DataFrame(data)\n",
    "df"
   ]
  },
  {
   "cell_type": "code",
   "execution_count": 5,
   "id": "24b78b7a",
   "metadata": {},
   "outputs": [
    {
     "data": {
      "text/html": [
       "<div>\n",
       "<style scoped>\n",
       "    .dataframe tbody tr th:only-of-type {\n",
       "        vertical-align: middle;\n",
       "    }\n",
       "\n",
       "    .dataframe tbody tr th {\n",
       "        vertical-align: top;\n",
       "    }\n",
       "\n",
       "    .dataframe thead th {\n",
       "        text-align: right;\n",
       "    }\n",
       "</style>\n",
       "<table border=\"1\" class=\"dataframe\">\n",
       "  <thead>\n",
       "    <tr style=\"text-align: right;\">\n",
       "      <th></th>\n",
       "      <th>Cause of deaths</th>\n",
       "      <th>Percentile</th>\n",
       "    </tr>\n",
       "  </thead>\n",
       "  <tbody>\n",
       "    <tr>\n",
       "      <th>0</th>\n",
       "      <td>Chronic Disease</td>\n",
       "      <td>62</td>\n",
       "    </tr>\n",
       "    <tr>\n",
       "      <th>5</th>\n",
       "      <td>Others</td>\n",
       "      <td>26</td>\n",
       "    </tr>\n",
       "    <tr>\n",
       "      <th>1</th>\n",
       "      <td>Unintentional Injuries</td>\n",
       "      <td>5</td>\n",
       "    </tr>\n",
       "    <tr>\n",
       "      <th>2</th>\n",
       "      <td>Alzheimers</td>\n",
       "      <td>4</td>\n",
       "    </tr>\n",
       "    <tr>\n",
       "      <th>3</th>\n",
       "      <td>Infuenza and Pneumonia</td>\n",
       "      <td>2</td>\n",
       "    </tr>\n",
       "    <tr>\n",
       "      <th>4</th>\n",
       "      <td>Sepsis</td>\n",
       "      <td>1</td>\n",
       "    </tr>\n",
       "  </tbody>\n",
       "</table>\n",
       "</div>"
      ],
      "text/plain": [
       "          Cause of deaths  Percentile\n",
       "0         Chronic Disease          62\n",
       "5                  Others          26\n",
       "1  Unintentional Injuries           5\n",
       "2              Alzheimers           4\n",
       "3  Infuenza and Pneumonia           2\n",
       "4                  Sepsis           1"
      ]
     },
     "execution_count": 5,
     "metadata": {},
     "output_type": "execute_result"
    }
   ],
   "source": [
    "# sort the dataframe by percentile in descending order\n",
    "df.sort_values(by=['Percentile'], inplace=True, ascending=False)\n",
    "df"
   ]
  },
  {
   "cell_type": "markdown",
   "id": "6d6507a9",
   "metadata": {},
   "source": [
    "# 3. Plot the piechart"
   ]
  },
  {
   "cell_type": "code",
   "execution_count": 6,
   "id": "434dfb51",
   "metadata": {},
   "outputs": [
    {
     "data": {
      "text/plain": [
       "([<matplotlib.patches.Wedge at 0x2329b867af0>,\n",
       "  <matplotlib.patches.Wedge at 0x2329bf10250>,\n",
       "  <matplotlib.patches.Wedge at 0x2329bf10970>,\n",
       "  <matplotlib.patches.Wedge at 0x2329bf1d0d0>,\n",
       "  <matplotlib.patches.Wedge at 0x2329bf1d7f0>,\n",
       "  <matplotlib.patches.Wedge at 0x2329bf1df10>],\n",
       " [Text(-0.4049370232742901, 1.0227541284110062, 'Chronic Disease'),\n",
       "  Text(-2.0206672185931328e-16, -1.1, 'Others'),\n",
       "  Text(0.9097886146248665, -0.6182917407656086, 'Unintentional Injuries'),\n",
       "  Text(1.046162158377023, -0.3399187231970735, 'Alzheimers'),\n",
       "  Text(1.0913261669926655, -0.13786659217191385, 'Infuenza and Pneumonia'),\n",
       "  Text(1.0994572152134503, -0.0345518728158815, 'Sepsis')],\n",
       " [Text(-0.22087473996779458, 0.5578658882241851, '62%'),\n",
       "  Text(-1.1021821192326178e-16, -0.6, '26%'),\n",
       "  Text(0.49624833524992706, -0.3372500404176046, '5%'),\n",
       "  Text(0.5706339045692852, -0.18541021265294919, '4%'),\n",
       "  Text(0.5952688183596356, -0.07519995936649847, '2%'),\n",
       "  Text(0.5997039355709729, -0.018846476081389906, '1%')])"
      ]
     },
     "execution_count": 6,
     "metadata": {},
     "output_type": "execute_result"
    },
    {
     "data": {
      "image/png": "[encoded data removed]",
      "text/plain": [
       "<Figure size 720x720 with 1 Axes>"
      ]
     },
     "metadata": {},
     "output_type": "display_data"
    }
   ],
   "source": [
    "# set the figsize\n",
    "plt.figure(figsize=(10,10))\n",
    "plt.title('Ohio State’s leading causes of death from the year 2012')\n",
    "plt.pie(df['Percentile'], labels=df['Cause of deaths'], autopct='%1.0f%%')"
   ]
  },
  {
   "cell_type": "code",
   "execution_count": null,
   "id": "7c014d55",
   "metadata": {},
   "outputs": [],
   "source": []
  }
 ],
 "metadata": {
  "kernelspec": {
   "display_name": "Python 3 (ipykernel)",
   "language": "python",
   "name": "python3"
  },
  "language_info": {
   "codemirror_mode": {
    "name": "ipython",
    "version": 3
   },
   "file_extension": ".py",
   "mimetype": "text/x-python",
   "name": "python",
   "nbconvert_exporter": "python",
   "pygments_lexer": "ipython3",
   "version": "3.9.12"
  }
 },
 "nbformat": 4,
 "nbformat_minor": 5
}
